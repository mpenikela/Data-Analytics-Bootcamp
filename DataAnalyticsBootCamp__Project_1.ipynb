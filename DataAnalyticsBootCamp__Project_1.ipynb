{
  "cells": [
    {
      "metadata": {
        "trusted": true
      },
      "cell_type": "code",
      "source": "import pandas as pd\nimport numpy as np\nimport matplotlib.pyplot as plt\npd.options.display.float_format = '${:,.2f}'.format\n%matplotlib inline",
      "execution_count": 74,
      "outputs": []
    },
    {
      "metadata": {
        "trusted": true
      },
      "cell_type": "code",
      "source": "dc_prop_file =\"dataset/DC_Properties.csv\"\n \ndf_prop = pd.read_csv(dc_prop_file)",
      "execution_count": 75,
      "outputs": [
        {
          "output_type": "stream",
          "text": "/home/nbuser/anaconda3_501/lib/python3.6/site-packages/IPython/core/interactiveshell.py:3020: DtypeWarning: Columns (18,19,20,21,22,23,24,33,34,35,37,43,45) have mixed types. Specify dtype option on import or set low_memory=False.\n  interactivity=interactivity, compiler=compiler, result=result)\n",
          "name": "stderr"
        }
      ]
    },
    {
      "metadata": {
        "trusted": true
      },
      "cell_type": "code",
      "source": "df_prop.columns",
      "execution_count": 76,
      "outputs": [
        {
          "output_type": "execute_result",
          "execution_count": 76,
          "data": {
            "text/plain": "Index(['Unnamed: 0', 'BATHRM', 'HF_BATHRM', 'HEAT', 'AC', 'NUM_UNITS', 'ROOMS',\n       'BEDRM', 'AYB', 'YR_RMDL', 'EYB', 'STORIES', 'SALEDATE', 'PRICE',\n       'QUALIFIED', 'SALE_NUM', 'GBA', 'BLDG_NUM', 'STYLE', 'STRUCT', 'GRADE',\n       'CNDTN', 'EXTWALL', 'ROOF', 'INTWALL', 'KITCHENS', 'FIREPLACES',\n       'USECODE', 'LANDAREA', 'GIS_LAST_MOD_DTTM', 'SOURCE', 'CMPLX_NUM',\n       'LIVING_GBA', 'FULLADDRESS', 'CITY', 'STATE', 'ZIPCODE', 'NATIONALGRID',\n       'LATITUDE', 'LONGITUDE', 'ASSESSMENT_NBHD', 'ASSESSMENT_SUBNBHD',\n       'CENSUS_TRACT', 'CENSUS_BLOCK', 'WARD', 'SQUARE', 'X', 'Y', 'QUADRANT'],\n      dtype='object')"
          },
          "metadata": {}
        }
      ]
    },
    {
      "metadata": {
        "trusted": true
      },
      "cell_type": "code",
      "source": "df_prop.dtypes",
      "execution_count": 77,
      "outputs": [
        {
          "output_type": "execute_result",
          "execution_count": 77,
          "data": {
            "text/plain": "Unnamed: 0              int64\nBATHRM                  int64\nHF_BATHRM               int64\nHEAT                   object\nAC                     object\nNUM_UNITS             float64\nROOMS                   int64\nBEDRM                   int64\nAYB                   float64\nYR_RMDL               float64\nEYB                     int64\nSTORIES               float64\nSALEDATE               object\nPRICE                 float64\nQUALIFIED              object\nSALE_NUM                int64\nGBA                   float64\nBLDG_NUM                int64\nSTYLE                  object\nSTRUCT                 object\nGRADE                  object\nCNDTN                  object\nEXTWALL                object\nROOF                   object\nINTWALL                object\nKITCHENS              float64\nFIREPLACES              int64\nUSECODE                 int64\nLANDAREA                int64\nGIS_LAST_MOD_DTTM      object\nSOURCE                 object\nCMPLX_NUM             float64\nLIVING_GBA            float64\nFULLADDRESS            object\nCITY                   object\nSTATE                  object\nZIPCODE               float64\nNATIONALGRID           object\nLATITUDE              float64\nLONGITUDE             float64\nASSESSMENT_NBHD        object\nASSESSMENT_SUBNBHD     object\nCENSUS_TRACT          float64\nCENSUS_BLOCK           object\nWARD                   object\nSQUARE                 object\nX                     float64\nY                     float64\nQUADRANT               object\ndtype: object"
          },
          "metadata": {}
        }
      ]
    },
    {
      "metadata": {
        "trusted": true
      },
      "cell_type": "code",
      "source": "#Highest storied building address\ndf_prop['STORIES'] = df_prop['STORIES'].astype(np.int16)\ndf_prop['STORIES'] = df_prop['STORIES'].fillna(0)\ndf_prop['STORIES'].unique()\ndf_prop.loc[df_prop['STORIES'] >100,['FULLADDRESS','CITY','SALEDATE','PRICE','STORIES']]",
      "execution_count": 172,
      "outputs": [
        {
          "output_type": "execute_result",
          "execution_count": 172,
          "data": {
            "text/html": "<div>\n<style scoped>\n    .dataframe tbody tr th:only-of-type {\n        vertical-align: middle;\n    }\n\n    .dataframe tbody tr th {\n        vertical-align: top;\n    }\n\n    .dataframe thead th {\n        text-align: right;\n    }\n</style>\n<table border=\"1\" class=\"dataframe\">\n  <thead>\n    <tr style=\"text-align: right;\">\n      <th></th>\n      <th>FULLADDRESS</th>\n      <th>CITY</th>\n      <th>SALEDATE</th>\n      <th>PRICE</th>\n      <th>STORIES</th>\n    </tr>\n  </thead>\n  <tbody>\n    <tr>\n      <th>7546</th>\n      <td>664 E STREET NE</td>\n      <td>WASHINGTON</td>\n      <td>2015-01-26 00:00:00</td>\n      <td>$760,000.00</td>\n      <td>826</td>\n    </tr>\n    <tr>\n      <th>20491</th>\n      <td>2712 N STREET NW</td>\n      <td>WASHINGTON</td>\n      <td>2015-09-23 00:00:00</td>\n      <td>$1,459,000.00</td>\n      <td>250</td>\n    </tr>\n    <tr>\n      <th>21170</th>\n      <td>2912 N STREET NW</td>\n      <td>WASHINGTON</td>\n      <td>2011-02-25 00:00:00</td>\n      <td>$5,397,500.00</td>\n      <td>275</td>\n    </tr>\n    <tr>\n      <th>21930</th>\n      <td>2721 O STREET NW</td>\n      <td>WASHINGTON</td>\n      <td>2017-01-27 00:00:00</td>\n      <td>$1,725,000.00</td>\n      <td>275</td>\n    </tr>\n  </tbody>\n</table>\n</div>",
            "text/plain": "            FULLADDRESS        CITY             SALEDATE         PRICE  \\\n7546    664 E STREET NE  WASHINGTON  2015-01-26 00:00:00   $760,000.00   \n20491  2712 N STREET NW  WASHINGTON  2015-09-23 00:00:00 $1,459,000.00   \n21170  2912 N STREET NW  WASHINGTON  2011-02-25 00:00:00 $5,397,500.00   \n21930  2721 O STREET NW  WASHINGTON  2017-01-27 00:00:00 $1,725,000.00   \n\n       STORIES  \n7546       826  \n20491      250  \n21170      275  \n21930      275  "
          },
          "metadata": {}
        }
      ]
    },
    {
      "metadata": {
        "trusted": true
      },
      "cell_type": "code",
      "source": "#Mean price of houses by year -- include house address, city, state, zipcode\n#df_prop[df_prop['PRICE'].isnull()] = df_prop['PRICE'].mean() #Set NaN values to mean price\n\ndf_prop['EYB'] = df_prop['EYB'].astype(\"int\")\n\ndf_mean_by_year = df_prop.groupby(['EYB'])['PRICE'].mean()\ndf_mean_by_year.head()",
      "execution_count": 81,
      "outputs": [
        {
          "output_type": "execute_result",
          "execution_count": 81,
          "data": {
            "text/plain": "EYB\n1800   $233,000.00\n1820   $447,500.00\n1865   $402,250.00\n1870   $738,156.25\n1875   $482,308.27\nName: PRICE, dtype: float64"
          },
          "metadata": {}
        }
      ]
    },
    {
      "metadata": {
        "trusted": true
      },
      "cell_type": "code",
      "source": "df_prop.drop_duplicates(inplace=True)",
      "execution_count": 82,
      "outputs": []
    },
    {
      "metadata": {
        "trusted": true
      },
      "cell_type": "code",
      "source": "#ZIPCODE clean up \n\ndf_prop['ZIPCODE'].unique()\ndf_prop.astype({'ZIPCODE':str}).head()\ndf_prop['ZIPCODE'].dtype",
      "execution_count": 83,
      "outputs": [
        {
          "output_type": "execute_result",
          "execution_count": 83,
          "data": {
            "text/plain": "dtype('float64')"
          },
          "metadata": {}
        }
      ]
    },
    {
      "metadata": {
        "trusted": true
      },
      "cell_type": "code",
      "source": "df_prop['ZIPCODE'] = df_prop['ZIPCODE'].astype(str)\ndf_prop['ZIPCODE'] = df_prop['ZIPCODE'].str.slice(0,5)",
      "execution_count": 84,
      "outputs": []
    },
    {
      "metadata": {
        "trusted": true
      },
      "cell_type": "code",
      "source": "df_prop['ZIPCODE'].unique()",
      "execution_count": 85,
      "outputs": [
        {
          "output_type": "execute_result",
          "execution_count": 85,
          "data": {
            "text/plain": "array(['20009', '20037', '20036', '20005', '20052', '20008', '20001',\n       '20024', '20006', '20003', '20002', '20007', '20016', '20015',\n       '20011', '20010', '20012', '20017', '20018', '20019', '20020',\n       '20032', 'nan', '20392', '20004'], dtype=object)"
          },
          "metadata": {}
        }
      ]
    },
    {
      "metadata": {
        "trusted": true
      },
      "cell_type": "code",
      "source": "df_prop['ZIPCODE'] = df_prop['ZIPCODE'].astype('int')\npropgb = df_prop.groupby('ZIPCODE')",
      "execution_count": 205,
      "outputs": []
    },
    {
      "metadata": {
        "trusted": true
      },
      "cell_type": "code",
      "source": "propgb.get_group(20016)['PRICE'].describe() #for a given group describe the distribution",
      "execution_count": 206,
      "outputs": [
        {
          "output_type": "execute_result",
          "execution_count": 206,
          "data": {
            "text/plain": "count        $10,644.00\nmean      $3,591,286.14\nstd      $20,426,251.06\nmin               $0.00\n25%               $0.00\n50%         $285,000.00\n75%         $784,625.00\nmax     $137,427,545.00\nName: PRICE, dtype: float64"
          },
          "metadata": {}
        }
      ]
    },
    {
      "metadata": {
        "trusted": true
      },
      "cell_type": "code",
      "source": "def mean_price_by_zip(p_by_gb, z):\n    return p_by_gb.get_group(z)['PRICE'].mean()\nmean_price_by_zip(propgb,20016)\n#Fix zero price rows to mean price by zipcode\n#df_prop[df_prop['PRICE']==0].apply(mean_price_by_zip(propgb,df_prop['ZIPCODE'])) # THIS DID NOT WORK",
      "execution_count": 237,
      "outputs": [
        {
          "output_type": "execute_result",
          "execution_count": 237,
          "data": {
            "text/plain": "3591286.137636227"
          },
          "metadata": {}
        }
      ]
    },
    {
      "metadata": {
        "trusted": true
      },
      "cell_type": "code",
      "source": "#pivot table\ndf_prop.pivot_table(index='ZIPCODE',values='PRICE')",
      "execution_count": 239,
      "outputs": [
        {
          "output_type": "execute_result",
          "execution_count": 239,
          "data": {
            "text/html": "<div>\n<style scoped>\n    .dataframe tbody tr th:only-of-type {\n        vertical-align: middle;\n    }\n\n    .dataframe tbody tr th {\n        vertical-align: top;\n    }\n\n    .dataframe thead th {\n        text-align: right;\n    }\n</style>\n<table border=\"1\" class=\"dataframe\">\n  <thead>\n    <tr style=\"text-align: right;\">\n      <th></th>\n      <th>PRICE</th>\n    </tr>\n    <tr>\n      <th>ZIPCODE</th>\n      <th></th>\n    </tr>\n  </thead>\n  <tbody>\n    <tr>\n      <th>0</th>\n      <td>$0.00</td>\n    </tr>\n    <tr>\n      <th>20001</th>\n      <td>$380,499.33</td>\n    </tr>\n    <tr>\n      <th>20002</th>\n      <td>$301,601.84</td>\n    </tr>\n    <tr>\n      <th>20003</th>\n      <td>$391,474.06</td>\n    </tr>\n    <tr>\n      <th>20004</th>\n      <td>$393,378.20</td>\n    </tr>\n    <tr>\n      <th>20005</th>\n      <td>$2,255,303.23</td>\n    </tr>\n    <tr>\n      <th>20006</th>\n      <td>$114,555.73</td>\n    </tr>\n    <tr>\n      <th>20007</th>\n      <td>$595,084.93</td>\n    </tr>\n    <tr>\n      <th>20008</th>\n      <td>$518,559.09</td>\n    </tr>\n    <tr>\n      <th>20009</th>\n      <td>$455,043.19</td>\n    </tr>\n    <tr>\n      <th>20010</th>\n      <td>$334,355.69</td>\n    </tr>\n    <tr>\n      <th>20011</th>\n      <td>$230,415.86</td>\n    </tr>\n    <tr>\n      <th>20012</th>\n      <td>$234,874.49</td>\n    </tr>\n    <tr>\n      <th>20015</th>\n      <td>$433,471.06</td>\n    </tr>\n    <tr>\n      <th>20016</th>\n      <td>$3,591,286.14</td>\n    </tr>\n    <tr>\n      <th>20017</th>\n      <td>$201,098.56</td>\n    </tr>\n    <tr>\n      <th>20018</th>\n      <td>$202,261.92</td>\n    </tr>\n    <tr>\n      <th>20019</th>\n      <td>$127,015.69</td>\n    </tr>\n    <tr>\n      <th>20020</th>\n      <td>$124,276.38</td>\n    </tr>\n    <tr>\n      <th>20024</th>\n      <td>$275,390.01</td>\n    </tr>\n    <tr>\n      <th>20032</th>\n      <td>$179,546.90</td>\n    </tr>\n    <tr>\n      <th>20036</th>\n      <td>$264,867.04</td>\n    </tr>\n    <tr>\n      <th>20037</th>\n      <td>$420,840.55</td>\n    </tr>\n    <tr>\n      <th>20052</th>\n      <td>$198,157.89</td>\n    </tr>\n    <tr>\n      <th>20392</th>\n      <td>$240,114.87</td>\n    </tr>\n  </tbody>\n</table>\n</div>",
            "text/plain": "                PRICE\nZIPCODE              \n0               $0.00\n20001     $380,499.33\n20002     $301,601.84\n20003     $391,474.06\n20004     $393,378.20\n20005   $2,255,303.23\n20006     $114,555.73\n20007     $595,084.93\n20008     $518,559.09\n20009     $455,043.19\n20010     $334,355.69\n20011     $230,415.86\n20012     $234,874.49\n20015     $433,471.06\n20016   $3,591,286.14\n20017     $201,098.56\n20018     $202,261.92\n20019     $127,015.69\n20020     $124,276.38\n20024     $275,390.01\n20032     $179,546.90\n20036     $264,867.04\n20037     $420,840.55\n20052     $198,157.89\n20392     $240,114.87"
          },
          "metadata": {}
        }
      ]
    },
    {
      "metadata": {
        "trusted": true
      },
      "cell_type": "code",
      "source": "",
      "execution_count": null,
      "outputs": []
    }
  ],
  "metadata": {
    "kernelspec": {
      "name": "python36",
      "display_name": "Python 3.6",
      "language": "python"
    },
    "language_info": {
      "mimetype": "text/x-python",
      "nbconvert_exporter": "python",
      "name": "python",
      "pygments_lexer": "ipython3",
      "version": "3.6.6",
      "file_extension": ".py",
      "codemirror_mode": {
        "version": 3,
        "name": "ipython"
      }
    }
  },
  "nbformat": 4,
  "nbformat_minor": 2
}